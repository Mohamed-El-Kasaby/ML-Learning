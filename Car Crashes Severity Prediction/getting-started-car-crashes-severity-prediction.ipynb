{
 "cells": [
  {
   "cell_type": "markdown",
   "id": "1044ab8f",
   "metadata": {
    "papermill": {
     "duration": 0.033096,
     "end_time": "2021-07-27T16:30:59.834599",
     "exception": false,
     "start_time": "2021-07-27T16:30:59.801503",
     "status": "completed"
    },
    "tags": []
   },
   "source": [
    "# Import our libraries "
   ]
  },
  {
   "cell_type": "code",
   "execution_count": 1,
   "id": "08505d6f",
   "metadata": {
    "execution": {
     "iopub.execute_input": "2021-07-27T16:30:59.914738Z",
     "iopub.status.busy": "2021-07-27T16:30:59.914270Z",
     "iopub.status.idle": "2021-07-27T16:31:01.194647Z",
     "shell.execute_reply": "2021-07-27T16:31:01.195107Z",
     "shell.execute_reply.started": "2021-07-27T16:29:56.814500Z"
    },
    "papermill": {
     "duration": 1.327397,
     "end_time": "2021-07-27T16:31:01.195405",
     "exception": false,
     "start_time": "2021-07-27T16:30:59.868008",
     "status": "completed"
    },
    "tags": []
   },
   "outputs": [],
   "source": [
    "import pandas as pd\n",
    "%matplotlib inline\n",
    "import matplotlib.pyplot as plt\n",
    "plt.style.use('ggplot')\n",
    "import re\n",
    "import seaborn as sns\n",
    "import os\n",
    "import numpy as np\n",
    "import datetime as dt"
   ]
  },
  {
   "cell_type": "markdown",
   "id": "c4de5f07",
   "metadata": {
    "papermill": {
     "duration": 0.032515,
     "end_time": "2021-07-27T16:31:01.261890",
     "exception": false,
     "start_time": "2021-07-27T16:31:01.229375",
     "status": "completed"
    },
    "tags": []
   },
   "source": [
    "# Reading Files"
   ]
  },
  {
   "cell_type": "code",
   "execution_count": 2,
   "id": "f9d88d7d",
   "metadata": {
    "execution": {
     "iopub.execute_input": "2021-07-27T16:31:01.333785Z",
     "iopub.status.busy": "2021-07-27T16:31:01.333242Z",
     "iopub.status.idle": "2021-07-27T16:31:01.431754Z",
     "shell.execute_reply": "2021-07-27T16:31:01.431181Z",
     "shell.execute_reply.started": "2021-07-27T16:29:56.882530Z"
    },
    "papermill": {
     "duration": 0.137642,
     "end_time": "2021-07-27T16:31:01.431977",
     "exception": false,
     "start_time": "2021-07-27T16:31:01.294335",
     "status": "completed"
    },
    "tags": []
   },
   "outputs": [
    {
     "name": "stdout",
     "output_type": "stream",
     "text": [
      "The shape of the dataset is (6407, 16).\n",
      "\n",
      "\n"
     ]
    }
   ],
   "source": [
    "\n",
    "df = pd.read_csv(\"../input/car-crashes-severity-prediction/train.csv\")\n",
    "weather = pd.read_csv(\"../input/car-crashes-severity-prediction/weather-sfcsv.csv\")\n",
    "test = pd.read_csv('../input/car-crashes-severity-prediction/test.csv')\n",
    "print(\"The shape of the dataset is {}.\\n\\n\".format(df.shape))\n"
   ]
  },
  {
   "cell_type": "markdown",
   "id": "db364b39",
   "metadata": {
    "papermill": {
     "duration": 0.031552,
     "end_time": "2021-07-27T16:31:01.497482",
     "exception": false,
     "start_time": "2021-07-27T16:31:01.465930",
     "status": "completed"
    },
    "tags": []
   },
   "source": [
    "# Reading Holiday file"
   ]
  },
  {
   "cell_type": "code",
   "execution_count": 3,
   "id": "37306830",
   "metadata": {
    "execution": {
     "iopub.execute_input": "2021-07-27T16:31:01.564002Z",
     "iopub.status.busy": "2021-07-27T16:31:01.563478Z",
     "iopub.status.idle": "2021-07-27T16:31:01.604149Z",
     "shell.execute_reply": "2021-07-27T16:31:01.603617Z",
     "shell.execute_reply.started": "2021-07-27T16:29:56.925337Z"
    },
    "papermill": {
     "duration": 0.075178,
     "end_time": "2021-07-27T16:31:01.604311",
     "exception": false,
     "start_time": "2021-07-27T16:31:01.529133",
     "status": "completed"
    },
    "tags": []
   },
   "outputs": [
    {
     "name": "stdout",
     "output_type": "stream",
     "text": [
      "<class 'pandas.core.frame.DataFrame'>\n",
      "RangeIndex: 90 entries, 0 to 89\n",
      "Data columns (total 2 columns):\n",
      " #   Column       Non-Null Count  Dtype \n",
      "---  ------       --------------  ----- \n",
      " 0   date         90 non-null     object\n",
      " 1   description  90 non-null     object\n",
      "dtypes: object(2)\n",
      "memory usage: 1.5+ KB\n"
     ]
    }
   ],
   "source": [
    "import xml.etree.ElementTree as ET\n",
    "root = ET.parse(\"../input/car-crashes-severity-prediction/holidays.xml\").getroot()\n",
    "\n",
    "tags = {\"tags\":[]}\n",
    "for elem in root:\n",
    "    tag = {}\n",
    "    tag[\"date\"] = elem[0].text\n",
    "    \n",
    "    tag[\"description\"] = elem[1].text\n",
    "    #tag['description']=1\n",
    "    tags[\"tags\"].append(tag)\n",
    "\n",
    "holidays = pd.DataFrame(tags[\"tags\"])\n",
    "holidays.info()"
   ]
  },
  {
   "cell_type": "markdown",
   "id": "1d154803",
   "metadata": {
    "papermill": {
     "duration": 0.048489,
     "end_time": "2021-07-27T16:31:01.701589",
     "exception": false,
     "start_time": "2021-07-27T16:31:01.653100",
     "status": "completed"
    },
    "tags": []
   },
   "source": [
    "# Convert type of timestamp Column"
   ]
  },
  {
   "cell_type": "code",
   "execution_count": 4,
   "id": "a3f9de54",
   "metadata": {
    "execution": {
     "iopub.execute_input": "2021-07-27T16:31:01.824527Z",
     "iopub.status.busy": "2021-07-27T16:31:01.808268Z",
     "iopub.status.idle": "2021-07-27T16:31:02.135749Z",
     "shell.execute_reply": "2021-07-27T16:31:02.135232Z",
     "shell.execute_reply.started": "2021-07-27T16:29:56.944578Z"
    },
    "papermill": {
     "duration": 0.38545,
     "end_time": "2021-07-27T16:31:02.135857",
     "exception": false,
     "start_time": "2021-07-27T16:31:01.750407",
     "status": "completed"
    },
    "tags": []
   },
   "outputs": [],
   "source": [
    "#Convert object to date time\n",
    "df['timestamp']=pd.to_datetime(df['timestamp'])\n",
    "\n",
    "#Create date column in df dataframe \n",
    "df['date'] = [d.date() for d in df['timestamp']]\n",
    "df['date']=pd.to_datetime(df['date'])\n",
    "\n",
    "#Create date column in weather dataframe\n",
    "weather[\"date\"]= weather[\"Year\"].astype(str)+\"-\" + weather[\"Month\"].astype(str)+\"-\"+weather[\"Day\"].astype(str)\n",
    "weather['date'] = pd.to_datetime(weather['date'])\n",
    "weather=weather.drop_duplicates(subset=['Hour', 'date'])\n",
    "\n",
    "weather_cp = weather.copy()\n",
    "df_cp = df.copy()\n",
    "#========================================\n",
    "df_cp[\"year\"]=df_cp.date.dt.year\n",
    "df_cp[\"month\"]=df_cp.date.dt.month\n",
    "df_cp[\"Day\"]=df_cp.date.dt.day\n",
    "df_cp['weekday'] = df_cp[['date']].apply(lambda x: dt.datetime.strftime(x['date'], '%A'), axis=1)\n",
    "\n",
    "def hr_func(ts):\n",
    "    return ts.hour\n",
    "df_cp['Hour'] = df_cp['timestamp'].apply(hr_func)\n",
    "\n",
    "#========================================\n",
    "holidays_cp = holidays.copy()\n",
    "holidays_cp['date']=  pd.to_datetime(holidays_cp['date'])\n"
   ]
  },
  {
   "cell_type": "markdown",
   "id": "787c3e49",
   "metadata": {
    "papermill": {
     "duration": 0.031908,
     "end_time": "2021-07-27T16:31:02.200449",
     "exception": false,
     "start_time": "2021-07-27T16:31:02.168541",
     "status": "completed"
    },
    "tags": []
   },
   "source": [
    "# Merge weather and holidays data with main dataframe"
   ]
  },
  {
   "cell_type": "code",
   "execution_count": 5,
   "id": "a5551ab0",
   "metadata": {
    "execution": {
     "iopub.execute_input": "2021-07-27T16:31:02.271890Z",
     "iopub.status.busy": "2021-07-27T16:31:02.271137Z",
     "iopub.status.idle": "2021-07-27T16:31:02.302395Z",
     "shell.execute_reply": "2021-07-27T16:31:02.301703Z",
     "shell.execute_reply.started": "2021-07-27T16:29:57.155999Z"
    },
    "papermill": {
     "duration": 0.069699,
     "end_time": "2021-07-27T16:31:02.302565",
     "exception": false,
     "start_time": "2021-07-27T16:31:02.232866",
     "status": "completed"
    },
    "tags": []
   },
   "outputs": [],
   "source": [
    "df_cp1 = pd.merge(df_cp,weather_cp,on=['date','Hour'],how = \"left\")\n",
    "df_cp2 = pd.merge(df_cp1,holidays_cp,on=['date'],how = \"left\")\n"
   ]
  },
  {
   "cell_type": "code",
   "execution_count": 6,
   "id": "e38f7426",
   "metadata": {
    "execution": {
     "iopub.execute_input": "2021-07-27T16:31:02.421992Z",
     "iopub.status.busy": "2021-07-27T16:31:02.419631Z",
     "iopub.status.idle": "2021-07-27T16:31:02.441625Z",
     "shell.execute_reply": "2021-07-27T16:31:02.441122Z",
     "shell.execute_reply.started": "2021-07-27T16:29:57.183094Z"
    },
    "papermill": {
     "duration": 0.087836,
     "end_time": "2021-07-27T16:31:02.441733",
     "exception": false,
     "start_time": "2021-07-27T16:31:02.353897",
     "status": "completed"
    },
    "tags": []
   },
   "outputs": [
    {
     "name": "stdout",
     "output_type": "stream",
     "text": [
      "<class 'pandas.core.frame.DataFrame'>\n",
      "Int64Index: 6407 entries, 0 to 6406\n",
      "Data columns (total 34 columns):\n",
      " #   Column             Non-Null Count  Dtype         \n",
      "---  ------             --------------  -----         \n",
      " 0   ID                 6407 non-null   int64         \n",
      " 1   Lat                6407 non-null   float64       \n",
      " 2   Lng                6407 non-null   float64       \n",
      " 3   Bump               6407 non-null   bool          \n",
      " 4   Distance(mi)       6407 non-null   float64       \n",
      " 5   Crossing           6407 non-null   bool          \n",
      " 6   Give_Way           6407 non-null   bool          \n",
      " 7   Junction           6407 non-null   bool          \n",
      " 8   No_Exit            6407 non-null   bool          \n",
      " 9   Railway            6407 non-null   bool          \n",
      " 10  Roundabout         6407 non-null   bool          \n",
      " 11  Stop               6407 non-null   bool          \n",
      " 12  Amenity            6407 non-null   bool          \n",
      " 13  Side               6407 non-null   object        \n",
      " 14  Severity           6407 non-null   int64         \n",
      " 15  timestamp          6407 non-null   datetime64[ns]\n",
      " 16  date               6407 non-null   datetime64[ns]\n",
      " 17  year               6407 non-null   int64         \n",
      " 18  month              6407 non-null   int64         \n",
      " 19  Day_x              6407 non-null   int64         \n",
      " 20  weekday            6407 non-null   object        \n",
      " 21  Hour               6407 non-null   int64         \n",
      " 22  Year               6407 non-null   int64         \n",
      " 23  Day_y              6407 non-null   int64         \n",
      " 24  Month              6407 non-null   int64         \n",
      " 25  Weather_Condition  6406 non-null   object        \n",
      " 26  Wind_Chill(F)      3274 non-null   float64       \n",
      " 27  Precipitation(in)  3529 non-null   float64       \n",
      " 28  Temperature(F)     6405 non-null   float64       \n",
      " 29  Humidity(%)        6405 non-null   float64       \n",
      " 30  Wind_Speed(mph)    6111 non-null   float64       \n",
      " 31  Visibility(mi)     6406 non-null   float64       \n",
      " 32  Selected           6407 non-null   object        \n",
      " 33  description        148 non-null    object        \n",
      "dtypes: bool(9), datetime64[ns](2), float64(9), int64(9), object(5)\n",
      "memory usage: 1.3+ MB\n"
     ]
    }
   ],
   "source": [
    "df_cp2.info()"
   ]
  },
  {
   "cell_type": "markdown",
   "id": "4f168bd0",
   "metadata": {
    "papermill": {
     "duration": 0.031896,
     "end_time": "2021-07-27T16:31:02.505787",
     "exception": false,
     "start_time": "2021-07-27T16:31:02.473891",
     "status": "completed"
    },
    "tags": []
   },
   "source": [
    "# Drop dummy column"
   ]
  },
  {
   "cell_type": "markdown",
   "id": "701af134",
   "metadata": {
    "papermill": {
     "duration": 0.032674,
     "end_time": "2021-07-27T16:31:02.570563",
     "exception": false,
     "start_time": "2021-07-27T16:31:02.537889",
     "status": "completed"
    },
    "tags": []
   },
   "source": [
    "we will drop ID column later now we noticed that 1- Wind_Chill(F) have lots of nulls (3138).** 2- Bump** all of its data is just false. 3- Give_Way also is just all false except 3 data sets. 4- All other dummy column also as \"No_Exit\",\"Roundabout\",..etc"
   ]
  },
  {
   "cell_type": "code",
   "execution_count": 7,
   "id": "f9de5cf7",
   "metadata": {
    "execution": {
     "iopub.execute_input": "2021-07-27T16:31:02.640929Z",
     "iopub.status.busy": "2021-07-27T16:31:02.640265Z",
     "iopub.status.idle": "2021-07-27T16:31:02.657157Z",
     "shell.execute_reply": "2021-07-27T16:31:02.658158Z",
     "shell.execute_reply.started": "2021-07-27T16:29:57.205238Z"
    },
    "papermill": {
     "duration": 0.055557,
     "end_time": "2021-07-27T16:31:02.658456",
     "exception": false,
     "start_time": "2021-07-27T16:31:02.602899",
     "status": "completed"
    },
    "tags": []
   },
   "outputs": [
    {
     "name": "stdout",
     "output_type": "stream",
     "text": [
      "<class 'pandas.core.frame.DataFrame'>\n",
      "Int64Index: 6407 entries, 0 to 6406\n",
      "Data columns (total 22 columns):\n",
      " #   Column             Non-Null Count  Dtype  \n",
      "---  ------             --------------  -----  \n",
      " 0   Lat                6407 non-null   float64\n",
      " 1   Lng                6407 non-null   float64\n",
      " 2   Distance(mi)       6407 non-null   float64\n",
      " 3   Crossing           6407 non-null   bool   \n",
      " 4   Railway            6407 non-null   bool   \n",
      " 5   Stop               6407 non-null   bool   \n",
      " 6   Amenity            6407 non-null   bool   \n",
      " 7   Side               6407 non-null   object \n",
      " 8   Severity           6407 non-null   int64  \n",
      " 9   year               6407 non-null   int64  \n",
      " 10  month              6407 non-null   int64  \n",
      " 11  Day_x              6407 non-null   int64  \n",
      " 12  weekday            6407 non-null   object \n",
      " 13  Hour               6407 non-null   int64  \n",
      " 14  Weather_Condition  6406 non-null   object \n",
      " 15  Precipitation(in)  3529 non-null   float64\n",
      " 16  Temperature(F)     6405 non-null   float64\n",
      " 17  Humidity(%)        6405 non-null   float64\n",
      " 18  Wind_Speed(mph)    6111 non-null   float64\n",
      " 19  Visibility(mi)     6406 non-null   float64\n",
      " 20  Selected           6407 non-null   object \n",
      " 21  description        148 non-null    object \n",
      "dtypes: bool(4), float64(8), int64(5), object(5)\n",
      "memory usage: 976.1+ KB\n"
     ]
    }
   ],
   "source": [
    "cleand_df_cp = df_cp2.drop([\"Junction\",\"Year\",\"Month\",\"Day_y\",\"date\",\"ID\",\"Wind_Chill(F)\",\"Bump\",\"Give_Way\",\"No_Exit\",\"Roundabout\",\"timestamp\"],axis=1)\n",
    "cleand_df_cp.info()"
   ]
  },
  {
   "cell_type": "markdown",
   "id": "52cfeb31",
   "metadata": {
    "papermill": {
     "duration": 0.033473,
     "end_time": "2021-07-27T16:31:02.725358",
     "exception": false,
     "start_time": "2021-07-27T16:31:02.691885",
     "status": "completed"
    },
    "tags": []
   },
   "source": [
    "# Take a look about null data"
   ]
  },
  {
   "cell_type": "code",
   "execution_count": 8,
   "id": "d4421e78",
   "metadata": {
    "execution": {
     "iopub.execute_input": "2021-07-27T16:31:02.807659Z",
     "iopub.status.busy": "2021-07-27T16:31:02.800578Z",
     "iopub.status.idle": "2021-07-27T16:31:02.810477Z",
     "shell.execute_reply": "2021-07-27T16:31:02.810987Z",
     "shell.execute_reply.started": "2021-07-27T16:29:57.232210Z"
    },
    "papermill": {
     "duration": 0.052001,
     "end_time": "2021-07-27T16:31:02.811161",
     "exception": false,
     "start_time": "2021-07-27T16:31:02.759160",
     "status": "completed"
    },
    "tags": []
   },
   "outputs": [
    {
     "data": {
      "text/plain": [
       "description          6259\n",
       "Precipitation(in)    2878\n",
       "Wind_Speed(mph)       296\n",
       "Humidity(%)             2\n",
       "Temperature(F)          2\n",
       "Visibility(mi)          1\n",
       "Weather_Condition       1\n",
       "Lng                     0\n",
       "Selected                0\n",
       "Hour                    0\n",
       "dtype: int64"
      ]
     },
     "execution_count": 8,
     "metadata": {},
     "output_type": "execute_result"
    }
   ],
   "source": [
    "cleand_df_cp.isnull().sum().sort_values(ascending = False).head(10)"
   ]
  },
  {
   "cell_type": "markdown",
   "id": "55a66983",
   "metadata": {
    "papermill": {
     "duration": 0.049523,
     "end_time": "2021-07-27T16:31:02.910964",
     "exception": false,
     "start_time": "2021-07-27T16:31:02.861441",
     "status": "completed"
    },
    "tags": []
   },
   "source": [
    "# Replace null with suitable values"
   ]
  },
  {
   "cell_type": "code",
   "execution_count": 9,
   "id": "cec57b7a",
   "metadata": {
    "execution": {
     "iopub.execute_input": "2021-07-27T16:31:03.018172Z",
     "iopub.status.busy": "2021-07-27T16:31:03.017380Z",
     "iopub.status.idle": "2021-07-27T16:31:03.026825Z",
     "shell.execute_reply": "2021-07-27T16:31:03.027339Z",
     "shell.execute_reply.started": "2021-07-27T16:29:57.245651Z"
    },
    "papermill": {
     "duration": 0.066509,
     "end_time": "2021-07-27T16:31:03.027519",
     "exception": false,
     "start_time": "2021-07-27T16:31:02.961010",
     "status": "completed"
    },
    "tags": []
   },
   "outputs": [],
   "source": [
    "cleand_df_cp['Temperature(F)']= cleand_df_cp['Temperature(F)'].fillna(cleand_df_cp['Temperature(F)'].mean())\n",
    "cleand_df_cp['Visibility(mi)']= cleand_df_cp['Visibility(mi)'].fillna(cleand_df_cp['Visibility(mi)'].mean())\n",
    "cleand_df_cp['Humidity(%)']= cleand_df_cp['Humidity(%)'].fillna(cleand_df_cp['Humidity(%)'].mean())\n",
    "cleand_df_cp['Weather_Condition']= cleand_df_cp['Weather_Condition'].fillna(\"Plarty Cloudy\")\n",
    "cleand_df_cp['Wind_Speed(mph)']= cleand_df_cp['Wind_Speed(mph)'].fillna(cleand_df_cp['Wind_Speed(mph)'].mean())\n",
    "cleand_df_cp['Precipitation(in)']= cleand_df_cp['Precipitation(in)'].fillna(cleand_df_cp['Precipitation(in)'].mean())\n",
    "cleand_df_cp['description']= cleand_df_cp['description'].fillna(0)\n",
    "cleand_df_cp.isnull().sum().sort_values(ascending = False).head(5)\n",
    "cleand_df_cp[\"H_day\"] = cleand_df_cp[\"description\"].copy()"
   ]
  },
  {
   "cell_type": "markdown",
   "id": "9d0db205",
   "metadata": {
    "papermill": {
     "duration": 0.050915,
     "end_time": "2021-07-27T16:31:03.130804",
     "exception": false,
     "start_time": "2021-07-27T16:31:03.079889",
     "status": "completed"
    },
    "tags": []
   },
   "source": [
    "# There is no missing values now!"
   ]
  },
  {
   "cell_type": "code",
   "execution_count": 10,
   "id": "701572d6",
   "metadata": {
    "execution": {
     "iopub.execute_input": "2021-07-27T16:31:03.235920Z",
     "iopub.status.busy": "2021-07-27T16:31:03.235228Z",
     "iopub.status.idle": "2021-07-27T16:31:03.245027Z",
     "shell.execute_reply": "2021-07-27T16:31:03.245442Z",
     "shell.execute_reply.started": "2021-07-27T16:29:57.264524Z"
    },
    "papermill": {
     "duration": 0.064088,
     "end_time": "2021-07-27T16:31:03.245584",
     "exception": false,
     "start_time": "2021-07-27T16:31:03.181496",
     "status": "completed"
    },
    "tags": []
   },
   "outputs": [
    {
     "data": {
      "text/plain": [
       "Lat                  0\n",
       "weekday              0\n",
       "description          0\n",
       "Selected             0\n",
       "Visibility(mi)       0\n",
       "Wind_Speed(mph)      0\n",
       "Humidity(%)          0\n",
       "Temperature(F)       0\n",
       "Precipitation(in)    0\n",
       "Weather_Condition    0\n",
       "dtype: int64"
      ]
     },
     "execution_count": 10,
     "metadata": {},
     "output_type": "execute_result"
    }
   ],
   "source": [
    "cleand_df_cp.isnull().sum().sort_values(ascending = False).head(10)"
   ]
  },
  {
   "cell_type": "markdown",
   "id": "056ff744",
   "metadata": {
    "papermill": {
     "duration": 0.033769,
     "end_time": "2021-07-27T16:31:03.312768",
     "exception": false,
     "start_time": "2021-07-27T16:31:03.278999",
     "status": "completed"
    },
    "tags": []
   },
   "source": [
    "# Convert boolen datatype to 1 and 0"
   ]
  },
  {
   "cell_type": "code",
   "execution_count": 11,
   "id": "d86ea3b7",
   "metadata": {
    "execution": {
     "iopub.execute_input": "2021-07-27T16:31:03.386278Z",
     "iopub.status.busy": "2021-07-27T16:31:03.384062Z",
     "iopub.status.idle": "2021-07-27T16:31:03.398886Z",
     "shell.execute_reply": "2021-07-27T16:31:03.398265Z",
     "shell.execute_reply.started": "2021-07-27T16:29:57.289504Z"
    },
    "papermill": {
     "duration": 0.052551,
     "end_time": "2021-07-27T16:31:03.399020",
     "exception": false,
     "start_time": "2021-07-27T16:31:03.346469",
     "status": "completed"
    },
    "tags": []
   },
   "outputs": [
    {
     "name": "stdout",
     "output_type": "stream",
     "text": [
      "<class 'pandas.core.frame.DataFrame'>\n",
      "Int64Index: 6407 entries, 0 to 6406\n",
      "Data columns (total 23 columns):\n",
      " #   Column             Non-Null Count  Dtype  \n",
      "---  ------             --------------  -----  \n",
      " 0   Lat                6407 non-null   float64\n",
      " 1   Lng                6407 non-null   float64\n",
      " 2   Distance(mi)       6407 non-null   float64\n",
      " 3   Crossing           6407 non-null   bool   \n",
      " 4   Railway            6407 non-null   bool   \n",
      " 5   Stop               6407 non-null   bool   \n",
      " 6   Amenity            6407 non-null   bool   \n",
      " 7   Side               6407 non-null   object \n",
      " 8   Severity           6407 non-null   int64  \n",
      " 9   year               6407 non-null   int64  \n",
      " 10  month              6407 non-null   int64  \n",
      " 11  Day_x              6407 non-null   int64  \n",
      " 12  weekday            6407 non-null   object \n",
      " 13  Hour               6407 non-null   int64  \n",
      " 14  Weather_Condition  6407 non-null   object \n",
      " 15  Precipitation(in)  6407 non-null   float64\n",
      " 16  Temperature(F)     6407 non-null   float64\n",
      " 17  Humidity(%)        6407 non-null   float64\n",
      " 18  Wind_Speed(mph)    6407 non-null   float64\n",
      " 19  Visibility(mi)     6407 non-null   float64\n",
      " 20  Selected           6407 non-null   object \n",
      " 21  description        6407 non-null   object \n",
      " 22  H_day              6407 non-null   object \n",
      "dtypes: bool(4), float64(8), int64(5), object(6)\n",
      "memory usage: 1.0+ MB\n"
     ]
    }
   ],
   "source": [
    "cleand_df_cp.info()"
   ]
  },
  {
   "cell_type": "code",
   "execution_count": 12,
   "id": "c24b402e",
   "metadata": {
    "execution": {
     "iopub.execute_input": "2021-07-27T16:31:03.477415Z",
     "iopub.status.busy": "2021-07-27T16:31:03.475826Z",
     "iopub.status.idle": "2021-07-27T16:31:09.497438Z",
     "shell.execute_reply": "2021-07-27T16:31:09.496983Z",
     "shell.execute_reply.started": "2021-07-27T16:29:57.309756Z"
    },
    "papermill": {
     "duration": 6.06458,
     "end_time": "2021-07-27T16:31:09.497553",
     "exception": false,
     "start_time": "2021-07-27T16:31:03.432973",
     "status": "completed"
    },
    "tags": []
   },
   "outputs": [
    {
     "name": "stderr",
     "output_type": "stream",
     "text": [
      "/opt/conda/lib/python3.7/site-packages/ipykernel_launcher.py:6: SettingWithCopyWarning: \n",
      "A value is trying to be set on a copy of a slice from a DataFrame\n",
      "\n",
      "See the caveats in the documentation: https://pandas.pydata.org/pandas-docs/stable/user_guide/indexing.html#returning-a-view-versus-a-copy\n",
      "  \n",
      "/opt/conda/lib/python3.7/site-packages/ipykernel_launcher.py:15: SettingWithCopyWarning: \n",
      "A value is trying to be set on a copy of a slice from a DataFrame\n",
      "\n",
      "See the caveats in the documentation: https://pandas.pydata.org/pandas-docs/stable/user_guide/indexing.html#returning-a-view-versus-a-copy\n",
      "  from ipykernel import kernelapp as app\n",
      "/opt/conda/lib/python3.7/site-packages/ipykernel_launcher.py:11: SettingWithCopyWarning: \n",
      "A value is trying to be set on a copy of a slice from a DataFrame\n",
      "\n",
      "See the caveats in the documentation: https://pandas.pydata.org/pandas-docs/stable/user_guide/indexing.html#returning-a-view-versus-a-copy\n",
      "  # This is added back by InteractiveShellApp.init_path()\n",
      "/opt/conda/lib/python3.7/site-packages/ipykernel_launcher.py:13: SettingWithCopyWarning: \n",
      "A value is trying to be set on a copy of a slice from a DataFrame\n",
      "\n",
      "See the caveats in the documentation: https://pandas.pydata.org/pandas-docs/stable/user_guide/indexing.html#returning-a-view-versus-a-copy\n",
      "  del sys.path[0]\n",
      "/opt/conda/lib/python3.7/site-packages/ipykernel_launcher.py:21: SettingWithCopyWarning: \n",
      "A value is trying to be set on a copy of a slice from a DataFrame\n",
      "\n",
      "See the caveats in the documentation: https://pandas.pydata.org/pandas-docs/stable/user_guide/indexing.html#returning-a-view-versus-a-copy\n",
      "/opt/conda/lib/python3.7/site-packages/ipykernel_launcher.py:19: SettingWithCopyWarning: \n",
      "A value is trying to be set on a copy of a slice from a DataFrame\n",
      "\n",
      "See the caveats in the documentation: https://pandas.pydata.org/pandas-docs/stable/user_guide/indexing.html#returning-a-view-versus-a-copy\n"
     ]
    }
   ],
   "source": [
    "bool_df1 = cleand_df_cp.select_dtypes(include = \"bool\")\n",
    "# bool_df1.columns\n",
    "\n",
    "for i in range(len(cleand_df_cp[\"description\"])):\n",
    "    if cleand_df_cp[\"description\"][i] != 0:\n",
    "        cleand_df_cp[\"H_day\"][i]= 1\n",
    "        \n",
    "\n",
    "for i in range(len(cleand_df_cp['weekday'])):\n",
    "    if cleand_df_cp['weekday'][i] == 'Sunday':\n",
    "        cleand_df_cp['H_day'][i] = 1\n",
    "    elif cleand_df_cp['weekday'][i] == 'Saturday':\n",
    "        cleand_df_cp['H_day'][i] = 1\n",
    "    else:\n",
    "        cleand_df_cp['H_day'][i] = 0\n",
    "\n",
    "for i in range(len(cleand_df_cp[\"Hour\"])):\n",
    "    if (cleand_df_cp[\"Hour\"][i] > 18) or (cleand_df_cp[\"Hour\"][i] <= 6):\n",
    "        cleand_df_cp[\"Hour\"][i]= 1\n",
    "    else :\n",
    "        cleand_df_cp[\"Hour\"][i]= 0\n",
    "        \n",
    "\n"
   ]
  },
  {
   "cell_type": "markdown",
   "id": "5c908567",
   "metadata": {
    "papermill": {
     "duration": 0.03343,
     "end_time": "2021-07-27T16:31:09.564824",
     "exception": false,
     "start_time": "2021-07-27T16:31:09.531394",
     "status": "completed"
    },
    "tags": []
   },
   "source": [
    "# Plotting"
   ]
  },
  {
   "cell_type": "code",
   "execution_count": 13,
   "id": "b04455bb",
   "metadata": {
    "execution": {
     "iopub.execute_input": "2021-07-27T16:31:09.637564Z",
     "iopub.status.busy": "2021-07-27T16:31:09.636988Z",
     "iopub.status.idle": "2021-07-27T16:31:09.854889Z",
     "shell.execute_reply": "2021-07-27T16:31:09.854449Z",
     "shell.execute_reply.started": "2021-07-27T16:30:03.541965Z"
    },
    "papermill": {
     "duration": 0.256689,
     "end_time": "2021-07-27T16:31:09.855009",
     "exception": false,
     "start_time": "2021-07-27T16:31:09.598320",
     "status": "completed"
    },
    "tags": []
   },
   "outputs": [
    {
     "data": {
      "image/png": "[encoded data removed]",
      "text/plain": [
       "<Figure size 720x360 with 1 Axes>"
      ]
     },
     "metadata": {},
     "output_type": "display_data"
    }
   ],
   "source": [
    "cleand_df_cp['Hour'].hist(bins =2 , rwidth = 0.5 ,figsize=(10,5) )\n",
    "plt.title(\"day_night accident\")\n",
    "plt.show()"
   ]
  },
  {
   "cell_type": "code",
   "execution_count": 14,
   "id": "c1692390",
   "metadata": {
    "execution": {
     "iopub.execute_input": "2021-07-27T16:31:09.958723Z",
     "iopub.status.busy": "2021-07-27T16:31:09.945931Z",
     "iopub.status.idle": "2021-07-27T16:31:10.093223Z",
     "shell.execute_reply": "2021-07-27T16:31:10.092716Z",
     "shell.execute_reply.started": "2021-07-27T16:30:03.686568Z"
    },
    "papermill": {
     "duration": 0.203752,
     "end_time": "2021-07-27T16:31:10.093329",
     "exception": false,
     "start_time": "2021-07-27T16:31:09.889577",
     "status": "completed"
    },
    "tags": []
   },
   "outputs": [
    {
     "data": {
      "image/png": "[encoded data removed]",
      "text/plain": [
       "<Figure size 720x360 with 1 Axes>"
      ]
     },
     "metadata": {},
     "output_type": "display_data"
    }
   ],
   "source": [
    "cleand_df_cp['weekday'].hist(bins =7 , rwidth = 0.5 ,figsize=(10,5) )\n",
    "plt.title(\"day accident\")\n",
    "plt.show()"
   ]
  },
  {
   "cell_type": "code",
   "execution_count": 15,
   "id": "bd70d8fd",
   "metadata": {
    "execution": {
     "iopub.execute_input": "2021-07-27T16:31:10.171611Z",
     "iopub.status.busy": "2021-07-27T16:31:10.170838Z",
     "iopub.status.idle": "2021-07-27T16:31:15.074807Z",
     "shell.execute_reply": "2021-07-27T16:31:15.074420Z",
     "shell.execute_reply.started": "2021-07-27T16:30:03.840128Z"
    },
    "papermill": {
     "duration": 4.94629,
     "end_time": "2021-07-27T16:31:15.074919",
     "exception": false,
     "start_time": "2021-07-27T16:31:10.128629",
     "status": "completed"
    },
    "tags": []
   },
   "outputs": [
    {
     "data": {
      "image/png": "[encoded data removed]",
      "text/plain": [
       "<Figure size 1008x2937.6 with 1 Axes>"
      ]
     },
     "metadata": {},
     "output_type": "display_data"
    }
   ],
   "source": [
    "\n",
    "cleand_df_cp.groupby(['Severity',df_cp['Hour']]).count().plot(kind='barh', figsize=(14,40.8))\n",
    "plt.title('When the accedent done')\n",
    "plt.show()"
   ]
  },
  {
   "cell_type": "markdown",
   "id": "74990d06",
   "metadata": {
    "papermill": {
     "duration": 0.038187,
     "end_time": "2021-07-27T16:31:15.151851",
     "exception": false,
     "start_time": "2021-07-27T16:31:15.113664",
     "status": "completed"
    },
    "tags": []
   },
   "source": [
    "# Encoding categorical datatype to numerical datatype"
   ]
  },
  {
   "cell_type": "code",
   "execution_count": 16,
   "id": "632ddd9b",
   "metadata": {
    "execution": {
     "iopub.execute_input": "2021-07-27T16:31:15.235503Z",
     "iopub.status.busy": "2021-07-27T16:31:15.234963Z",
     "iopub.status.idle": "2021-07-27T16:31:15.423451Z",
     "shell.execute_reply": "2021-07-27T16:31:15.423864Z",
     "shell.execute_reply.started": "2021-07-27T16:30:09.593761Z"
    },
    "papermill": {
     "duration": 0.233656,
     "end_time": "2021-07-27T16:31:15.424014",
     "exception": false,
     "start_time": "2021-07-27T16:31:15.190358",
     "status": "completed"
    },
    "tags": []
   },
   "outputs": [],
   "source": [
    "from sklearn.preprocessing import LabelEncoder\n",
    "le = LabelEncoder()\n",
    "\n",
    "for i in bool_df1.columns :\n",
    "    cleand_df_cp[i]=le.fit_transform(cleand_df_cp[i])\n",
    "    \n",
    "cleand_df_cp[\"Selected\"]=le.fit_transform(cleand_df_cp[\"Selected\"])\n",
    "cleand_df_cp[\"Weather_Condition\"]=le.fit_transform(cleand_df_cp[\"Weather_Condition\"])\n",
    "cleand_df_cp[\"Side\"]=le.fit_transform(cleand_df_cp[\"Side\"])\n",
    "\n",
    "cleand_df_cp = cleand_df_cp.drop([\"description\",\"weekday\",\"Day_x\",\"year\",\"Precipitation(in)\",\"Humidity(%)\"],axis=1)"
   ]
  },
  {
   "cell_type": "code",
   "execution_count": 17,
   "id": "37bc79f8",
   "metadata": {
    "execution": {
     "iopub.execute_input": "2021-07-27T16:31:15.505872Z",
     "iopub.status.busy": "2021-07-27T16:31:15.505387Z",
     "iopub.status.idle": "2021-07-27T16:31:15.544294Z",
     "shell.execute_reply": "2021-07-27T16:31:15.543766Z",
     "shell.execute_reply.started": "2021-07-27T16:30:09.611741Z"
    },
    "papermill": {
     "duration": 0.081367,
     "end_time": "2021-07-27T16:31:15.544406",
     "exception": false,
     "start_time": "2021-07-27T16:31:15.463039",
     "status": "completed"
    },
    "tags": []
   },
   "outputs": [
    {
     "data": {
      "text/html": [
       "<div>\n",
       "<style scoped>\n",
       "    .dataframe tbody tr th:only-of-type {\n",
       "        vertical-align: middle;\n",
       "    }\n",
       "\n",
       "    .dataframe tbody tr th {\n",
       "        vertical-align: top;\n",
       "    }\n",
       "\n",
       "    .dataframe thead th {\n",
       "        text-align: right;\n",
       "    }\n",
       "</style>\n",
       "<table border=\"1\" class=\"dataframe\">\n",
       "  <thead>\n",
       "    <tr style=\"text-align: right;\">\n",
       "      <th></th>\n",
       "      <th>Lat</th>\n",
       "      <th>Lng</th>\n",
       "      <th>Distance(mi)</th>\n",
       "      <th>Crossing</th>\n",
       "      <th>Railway</th>\n",
       "      <th>Stop</th>\n",
       "      <th>Amenity</th>\n",
       "      <th>Side</th>\n",
       "      <th>Severity</th>\n",
       "      <th>month</th>\n",
       "      <th>Hour</th>\n",
       "      <th>Weather_Condition</th>\n",
       "      <th>Temperature(F)</th>\n",
       "      <th>Wind_Speed(mph)</th>\n",
       "      <th>Visibility(mi)</th>\n",
       "      <th>Selected</th>\n",
       "      <th>H_day</th>\n",
       "    </tr>\n",
       "  </thead>\n",
       "  <tbody>\n",
       "    <tr>\n",
       "      <th>0</th>\n",
       "      <td>37.762150</td>\n",
       "      <td>-122.405660</td>\n",
       "      <td>0.044</td>\n",
       "      <td>0</td>\n",
       "      <td>0</td>\n",
       "      <td>0</td>\n",
       "      <td>1</td>\n",
       "      <td>1</td>\n",
       "      <td>2</td>\n",
       "      <td>3</td>\n",
       "      <td>0</td>\n",
       "      <td>23</td>\n",
       "      <td>64.0</td>\n",
       "      <td>23.0</td>\n",
       "      <td>10.0</td>\n",
       "      <td>0</td>\n",
       "      <td>0</td>\n",
       "    </tr>\n",
       "    <tr>\n",
       "      <th>1</th>\n",
       "      <td>37.719157</td>\n",
       "      <td>-122.448254</td>\n",
       "      <td>0.000</td>\n",
       "      <td>0</td>\n",
       "      <td>0</td>\n",
       "      <td>0</td>\n",
       "      <td>0</td>\n",
       "      <td>1</td>\n",
       "      <td>2</td>\n",
       "      <td>5</td>\n",
       "      <td>1</td>\n",
       "      <td>15</td>\n",
       "      <td>57.0</td>\n",
       "      <td>22.0</td>\n",
       "      <td>10.0</td>\n",
       "      <td>0</td>\n",
       "      <td>0</td>\n",
       "    </tr>\n",
       "    <tr>\n",
       "      <th>2</th>\n",
       "      <td>37.808498</td>\n",
       "      <td>-122.366852</td>\n",
       "      <td>0.000</td>\n",
       "      <td>0</td>\n",
       "      <td>0</td>\n",
       "      <td>1</td>\n",
       "      <td>0</td>\n",
       "      <td>1</td>\n",
       "      <td>3</td>\n",
       "      <td>9</td>\n",
       "      <td>1</td>\n",
       "      <td>0</td>\n",
       "      <td>62.1</td>\n",
       "      <td>9.2</td>\n",
       "      <td>10.0</td>\n",
       "      <td>0</td>\n",
       "      <td>0</td>\n",
       "    </tr>\n",
       "    <tr>\n",
       "      <th>3</th>\n",
       "      <td>37.785930</td>\n",
       "      <td>-122.391080</td>\n",
       "      <td>0.009</td>\n",
       "      <td>0</td>\n",
       "      <td>0</td>\n",
       "      <td>0</td>\n",
       "      <td>0</td>\n",
       "      <td>1</td>\n",
       "      <td>1</td>\n",
       "      <td>3</td>\n",
       "      <td>1</td>\n",
       "      <td>3</td>\n",
       "      <td>58.0</td>\n",
       "      <td>10.0</td>\n",
       "      <td>10.0</td>\n",
       "      <td>0</td>\n",
       "      <td>1</td>\n",
       "    </tr>\n",
       "    <tr>\n",
       "      <th>4</th>\n",
       "      <td>37.719141</td>\n",
       "      <td>-122.448457</td>\n",
       "      <td>0.000</td>\n",
       "      <td>0</td>\n",
       "      <td>0</td>\n",
       "      <td>0</td>\n",
       "      <td>0</td>\n",
       "      <td>1</td>\n",
       "      <td>2</td>\n",
       "      <td>10</td>\n",
       "      <td>0</td>\n",
       "      <td>3</td>\n",
       "      <td>58.0</td>\n",
       "      <td>3.0</td>\n",
       "      <td>10.0</td>\n",
       "      <td>0</td>\n",
       "      <td>0</td>\n",
       "    </tr>\n",
       "    <tr>\n",
       "      <th>...</th>\n",
       "      <td>...</td>\n",
       "      <td>...</td>\n",
       "      <td>...</td>\n",
       "      <td>...</td>\n",
       "      <td>...</td>\n",
       "      <td>...</td>\n",
       "      <td>...</td>\n",
       "      <td>...</td>\n",
       "      <td>...</td>\n",
       "      <td>...</td>\n",
       "      <td>...</td>\n",
       "      <td>...</td>\n",
       "      <td>...</td>\n",
       "      <td>...</td>\n",
       "      <td>...</td>\n",
       "      <td>...</td>\n",
       "      <td>...</td>\n",
       "    </tr>\n",
       "    <tr>\n",
       "      <th>6402</th>\n",
       "      <td>37.740630</td>\n",
       "      <td>-122.407930</td>\n",
       "      <td>0.368</td>\n",
       "      <td>0</td>\n",
       "      <td>0</td>\n",
       "      <td>0</td>\n",
       "      <td>0</td>\n",
       "      <td>1</td>\n",
       "      <td>3</td>\n",
       "      <td>10</td>\n",
       "      <td>0</td>\n",
       "      <td>23</td>\n",
       "      <td>61.0</td>\n",
       "      <td>17.3</td>\n",
       "      <td>10.0</td>\n",
       "      <td>0</td>\n",
       "      <td>1</td>\n",
       "    </tr>\n",
       "    <tr>\n",
       "      <th>6403</th>\n",
       "      <td>37.752755</td>\n",
       "      <td>-122.402790</td>\n",
       "      <td>0.639</td>\n",
       "      <td>0</td>\n",
       "      <td>0</td>\n",
       "      <td>0</td>\n",
       "      <td>0</td>\n",
       "      <td>1</td>\n",
       "      <td>2</td>\n",
       "      <td>10</td>\n",
       "      <td>0</td>\n",
       "      <td>14</td>\n",
       "      <td>57.0</td>\n",
       "      <td>6.9</td>\n",
       "      <td>10.0</td>\n",
       "      <td>0</td>\n",
       "      <td>0</td>\n",
       "    </tr>\n",
       "    <tr>\n",
       "      <th>6404</th>\n",
       "      <td>37.726304</td>\n",
       "      <td>-122.446015</td>\n",
       "      <td>0.000</td>\n",
       "      <td>0</td>\n",
       "      <td>0</td>\n",
       "      <td>0</td>\n",
       "      <td>0</td>\n",
       "      <td>1</td>\n",
       "      <td>2</td>\n",
       "      <td>10</td>\n",
       "      <td>0</td>\n",
       "      <td>3</td>\n",
       "      <td>71.0</td>\n",
       "      <td>9.0</td>\n",
       "      <td>10.0</td>\n",
       "      <td>0</td>\n",
       "      <td>0</td>\n",
       "    </tr>\n",
       "    <tr>\n",
       "      <th>6405</th>\n",
       "      <td>37.808090</td>\n",
       "      <td>-122.367211</td>\n",
       "      <td>0.000</td>\n",
       "      <td>0</td>\n",
       "      <td>0</td>\n",
       "      <td>0</td>\n",
       "      <td>0</td>\n",
       "      <td>1</td>\n",
       "      <td>3</td>\n",
       "      <td>5</td>\n",
       "      <td>0</td>\n",
       "      <td>3</td>\n",
       "      <td>63.0</td>\n",
       "      <td>13.0</td>\n",
       "      <td>10.0</td>\n",
       "      <td>0</td>\n",
       "      <td>1</td>\n",
       "    </tr>\n",
       "    <tr>\n",
       "      <th>6406</th>\n",
       "      <td>37.773745</td>\n",
       "      <td>-122.408515</td>\n",
       "      <td>0.000</td>\n",
       "      <td>1</td>\n",
       "      <td>0</td>\n",
       "      <td>0</td>\n",
       "      <td>0</td>\n",
       "      <td>1</td>\n",
       "      <td>2</td>\n",
       "      <td>2</td>\n",
       "      <td>1</td>\n",
       "      <td>14</td>\n",
       "      <td>52.0</td>\n",
       "      <td>13.0</td>\n",
       "      <td>10.0</td>\n",
       "      <td>0</td>\n",
       "      <td>0</td>\n",
       "    </tr>\n",
       "  </tbody>\n",
       "</table>\n",
       "<p>6407 rows × 17 columns</p>\n",
       "</div>"
      ],
      "text/plain": [
       "            Lat         Lng  Distance(mi)  Crossing  Railway  Stop  Amenity  \\\n",
       "0     37.762150 -122.405660         0.044         0        0     0        1   \n",
       "1     37.719157 -122.448254         0.000         0        0     0        0   \n",
       "2     37.808498 -122.366852         0.000         0        0     1        0   \n",
       "3     37.785930 -122.391080         0.009         0        0     0        0   \n",
       "4     37.719141 -122.448457         0.000         0        0     0        0   \n",
       "...         ...         ...           ...       ...      ...   ...      ...   \n",
       "6402  37.740630 -122.407930         0.368         0        0     0        0   \n",
       "6403  37.752755 -122.402790         0.639         0        0     0        0   \n",
       "6404  37.726304 -122.446015         0.000         0        0     0        0   \n",
       "6405  37.808090 -122.367211         0.000         0        0     0        0   \n",
       "6406  37.773745 -122.408515         0.000         1        0     0        0   \n",
       "\n",
       "      Side  Severity  month  Hour  Weather_Condition  Temperature(F)  \\\n",
       "0        1         2      3     0                 23            64.0   \n",
       "1        1         2      5     1                 15            57.0   \n",
       "2        1         3      9     1                  0            62.1   \n",
       "3        1         1      3     1                  3            58.0   \n",
       "4        1         2     10     0                  3            58.0   \n",
       "...    ...       ...    ...   ...                ...             ...   \n",
       "6402     1         3     10     0                 23            61.0   \n",
       "6403     1         2     10     0                 14            57.0   \n",
       "6404     1         2     10     0                  3            71.0   \n",
       "6405     1         3      5     0                  3            63.0   \n",
       "6406     1         2      2     1                 14            52.0   \n",
       "\n",
       "      Wind_Speed(mph)  Visibility(mi)  Selected H_day  \n",
       "0                23.0            10.0         0     0  \n",
       "1                22.0            10.0         0     0  \n",
       "2                 9.2            10.0         0     0  \n",
       "3                10.0            10.0         0     1  \n",
       "4                 3.0            10.0         0     0  \n",
       "...               ...             ...       ...   ...  \n",
       "6402             17.3            10.0         0     1  \n",
       "6403              6.9            10.0         0     0  \n",
       "6404              9.0            10.0         0     0  \n",
       "6405             13.0            10.0         0     1  \n",
       "6406             13.0            10.0         0     0  \n",
       "\n",
       "[6407 rows x 17 columns]"
      ]
     },
     "execution_count": 17,
     "metadata": {},
     "output_type": "execute_result"
    }
   ],
   "source": [
    "cleand_df_cp"
   ]
  },
  {
   "cell_type": "markdown",
   "id": "3f03db36",
   "metadata": {
    "papermill": {
     "duration": 0.038248,
     "end_time": "2021-07-27T16:31:15.621948",
     "exception": false,
     "start_time": "2021-07-27T16:31:15.583700",
     "status": "completed"
    },
    "tags": []
   },
   "source": [
    "## Import the libraries\n",
    "\n",
    "We'll use `pandas` to load and manipulate the data. Other libraries will be imported in the relevant sections."
   ]
  },
  {
   "cell_type": "code",
   "execution_count": 18,
   "id": "7ebba7f1",
   "metadata": {
    "_cell_guid": "b1076dfc-b9ad-4769-8c92-a6c4dae69d19",
    "_uuid": "8f2839f25d086af736a60e9eeb907d3b93b6e0e5",
    "execution": {
     "iopub.execute_input": "2021-07-27T16:31:15.702848Z",
     "iopub.status.busy": "2021-07-27T16:31:15.702265Z",
     "iopub.status.idle": "2021-07-27T16:31:15.705080Z",
     "shell.execute_reply": "2021-07-27T16:31:15.704639Z",
     "shell.execute_reply.started": "2021-07-27T16:30:09.649140Z"
    },
    "papermill": {
     "duration": 0.044787,
     "end_time": "2021-07-27T16:31:15.705184",
     "exception": false,
     "start_time": "2021-07-27T16:31:15.660397",
     "status": "completed"
    },
    "tags": []
   },
   "outputs": [],
   "source": [
    "import pandas as pd\n",
    "import os"
   ]
  },
  {
   "cell_type": "markdown",
   "id": "4bb97305",
   "metadata": {
    "papermill": {
     "duration": 0.038686,
     "end_time": "2021-07-27T16:31:15.782520",
     "exception": false,
     "start_time": "2021-07-27T16:31:15.743834",
     "status": "completed"
    },
    "tags": []
   },
   "source": [
    "## Data Splitting\n",
    "\n",
    "Now it's time to split the dataset for the training step. Typically the dataset is split into 3 subsets, namely, the training, validation and test sets. In our case, the test set is already predefined. So we'll split the \"training\" set into training and validation sets with 0.8:0.2 ratio. \n",
    "\n",
    "*Note: a good way to generate reproducible results is to set the seed to the algorithms that depends on randomization. This is done with the argument `random_state` in the following command* "
   ]
  },
  {
   "cell_type": "code",
   "execution_count": 19,
   "id": "2cdaec1e",
   "metadata": {
    "execution": {
     "iopub.execute_input": "2021-07-27T16:31:15.865547Z",
     "iopub.status.busy": "2021-07-27T16:31:15.865009Z",
     "iopub.status.idle": "2021-07-27T16:31:15.940137Z",
     "shell.execute_reply": "2021-07-27T16:31:15.940545Z",
     "shell.execute_reply.started": "2021-07-27T16:30:09.663147Z"
    },
    "papermill": {
     "duration": 0.119423,
     "end_time": "2021-07-27T16:31:15.940703",
     "exception": false,
     "start_time": "2021-07-27T16:31:15.821280",
     "status": "completed"
    },
    "tags": []
   },
   "outputs": [],
   "source": [
    "from sklearn.model_selection import train_test_split\n",
    "\n",
    "train_df, val_df = train_test_split(cleand_df_cp, test_size=0.2, random_state=42) # Try adding `stratify` here\n",
    "\n",
    "X_train = train_df.drop(columns=['Severity'])\n",
    "y_train = train_df['Severity']\n",
    "\n",
    "X_val = val_df.drop(columns=['Severity'])\n",
    "y_val = val_df['Severity']\n"
   ]
  },
  {
   "cell_type": "markdown",
   "id": "0b72319b",
   "metadata": {
    "papermill": {
     "duration": 0.038819,
     "end_time": "2021-07-27T16:31:16.018369",
     "exception": false,
     "start_time": "2021-07-27T16:31:15.979550",
     "status": "completed"
    },
    "tags": []
   },
   "source": [
    "As pointed out eariler, I'll use the numerical features to train the classifier. **However, you shouldn't use the numerical features only to make the final submission if you want to make it to the top of the leaderboard.** "
   ]
  },
  {
   "cell_type": "markdown",
   "id": "e5d78fe8",
   "metadata": {
    "papermill": {
     "duration": 0.039027,
     "end_time": "2021-07-27T16:31:16.097689",
     "exception": false,
     "start_time": "2021-07-27T16:31:16.058662",
     "status": "completed"
    },
    "tags": []
   },
   "source": [
    "## Model Training\n",
    "\n",
    "Let's train a model with the data! We'll train a Random Forest Classifier to demonstrate the process of making submissions. "
   ]
  },
  {
   "cell_type": "code",
   "execution_count": 20,
   "id": "6a1344de",
   "metadata": {
    "execution": {
     "iopub.execute_input": "2021-07-27T16:31:16.179340Z",
     "iopub.status.busy": "2021-07-27T16:31:16.178800Z",
     "iopub.status.idle": "2021-07-27T16:31:16.759023Z",
     "shell.execute_reply": "2021-07-27T16:31:16.759434Z",
     "shell.execute_reply.started": "2021-07-27T16:30:09.681556Z"
    },
    "papermill": {
     "duration": 0.622463,
     "end_time": "2021-07-27T16:31:16.759585",
     "exception": false,
     "start_time": "2021-07-27T16:31:16.137122",
     "status": "completed"
    },
    "tags": []
   },
   "outputs": [],
   "source": [
    "from sklearn.ensemble import RandomForestClassifier\n",
    "\n",
    "# Create an instance of the classifier\n",
    "classifier = RandomForestClassifier(max_depth=2, random_state=0)\n",
    "\n",
    "# Train the classifier\n",
    "classifier = classifier.fit(X_train, y_train)"
   ]
  },
  {
   "cell_type": "markdown",
   "id": "ff4c356d",
   "metadata": {
    "papermill": {
     "duration": 0.039833,
     "end_time": "2021-07-27T16:31:16.838441",
     "exception": false,
     "start_time": "2021-07-27T16:31:16.798608",
     "status": "completed"
    },
    "tags": []
   },
   "source": [
    "Now let's test our classifier on the validation dataset and see the accuracy."
   ]
  },
  {
   "cell_type": "code",
   "execution_count": 21,
   "id": "8d2b1f84",
   "metadata": {
    "execution": {
     "iopub.execute_input": "2021-07-27T16:31:16.919478Z",
     "iopub.status.busy": "2021-07-27T16:31:16.918913Z",
     "iopub.status.idle": "2021-07-27T16:31:16.950773Z",
     "shell.execute_reply": "2021-07-27T16:31:16.951274Z",
     "shell.execute_reply.started": "2021-07-27T16:30:09.960398Z"
    },
    "papermill": {
     "duration": 0.073921,
     "end_time": "2021-07-27T16:31:16.951459",
     "exception": false,
     "start_time": "2021-07-27T16:31:16.877538",
     "status": "completed"
    },
    "tags": []
   },
   "outputs": [
    {
     "name": "stdout",
     "output_type": "stream",
     "text": [
      "The accuracy of the classifier on the validation set is  0.749609984399376\n"
     ]
    }
   ],
   "source": [
    "print(\"The accuracy of the classifier on the validation set is \", (classifier.score(X_val, y_val)))"
   ]
  },
  {
   "cell_type": "markdown",
   "id": "8ec128b4",
   "metadata": {
    "papermill": {
     "duration": 0.06001,
     "end_time": "2021-07-27T16:31:17.070031",
     "exception": false,
     "start_time": "2021-07-27T16:31:17.010021",
     "status": "completed"
    },
    "tags": []
   },
   "source": [
    "Well. That's a good start, right? A classifier that predicts all examples' `Severity` as 2 will get around 0.63. You should get better score as you add more features and do better data preprocessing."
   ]
  },
  {
   "cell_type": "markdown",
   "id": "46d59a91",
   "metadata": {
    "papermill": {
     "duration": 0.059395,
     "end_time": "2021-07-27T16:31:17.189166",
     "exception": false,
     "start_time": "2021-07-27T16:31:17.129771",
     "status": "completed"
    },
    "tags": []
   },
   "source": [
    "## Submission File Generation\n",
    "\n",
    "We have built a model and we'd like to submit our predictions on the test set! In order to do that, we'll load the test set, predict the class and save the submission file. \n",
    "\n",
    "First, we'll load the data."
   ]
  },
  {
   "cell_type": "markdown",
   "id": "be4355b5",
   "metadata": {
    "papermill": {
     "duration": 0.05772,
     "end_time": "2021-07-27T16:31:17.305641",
     "exception": false,
     "start_time": "2021-07-27T16:31:17.247921",
     "status": "completed"
    },
    "tags": []
   },
   "source": [
    "# Convert type of timestamp Column"
   ]
  },
  {
   "cell_type": "code",
   "execution_count": 22,
   "id": "b1bd769a",
   "metadata": {
    "execution": {
     "iopub.execute_input": "2021-07-27T16:31:17.436769Z",
     "iopub.status.busy": "2021-07-27T16:31:17.436094Z",
     "iopub.status.idle": "2021-07-27T16:31:17.481146Z",
     "shell.execute_reply": "2021-07-27T16:31:17.481638Z",
     "shell.execute_reply.started": "2021-07-27T16:30:09.991382Z"
    },
    "papermill": {
     "duration": 0.117036,
     "end_time": "2021-07-27T16:31:17.481809",
     "exception": false,
     "start_time": "2021-07-27T16:31:17.364773",
     "status": "completed"
    },
    "tags": []
   },
   "outputs": [],
   "source": [
    "import datetime as dt\n",
    "#Convert object to date time\n",
    "test['timestamp']=pd.to_datetime(test['timestamp'])\n",
    "\n",
    "#Create date column in df dataframe \n",
    "test['date'] = [d.date() for d in test['timestamp']]\n",
    "test['date']=pd.to_datetime(test['date'])\n",
    "\n",
    "weather_ts = weather.copy()\n",
    "\n",
    "\n",
    "test[\"year\"]=test.date.dt.year\n",
    "test[\"month\"]=test.date.dt.month\n",
    "test[\"Day\"]=test.date.dt.day\n",
    "test['weekday'] = test[['date']].apply(lambda x: dt.datetime.strftime(x['date'], '%A'), axis=1)\n",
    "\n",
    "\n",
    "def hr_func(ts):\n",
    "    return ts.hour\n",
    "\n",
    "test['Hour'] = test['timestamp'].apply(hr_func)\n",
    "\n",
    "#========================================\n",
    "holidays_ts = holidays.copy()\n",
    "holidays_ts['date']=  pd.to_datetime(holidays_ts['date'])"
   ]
  },
  {
   "cell_type": "markdown",
   "id": "b59bd810",
   "metadata": {
    "papermill": {
     "duration": 0.056463,
     "end_time": "2021-07-27T16:31:17.596114",
     "exception": false,
     "start_time": "2021-07-27T16:31:17.539651",
     "status": "completed"
    },
    "tags": []
   },
   "source": [
    "# Merge weather and holidays data with main dataframe"
   ]
  },
  {
   "cell_type": "code",
   "execution_count": 23,
   "id": "cbc89409",
   "metadata": {
    "execution": {
     "iopub.execute_input": "2021-07-27T16:31:17.713247Z",
     "iopub.status.busy": "2021-07-27T16:31:17.712651Z",
     "iopub.status.idle": "2021-07-27T16:31:17.731138Z",
     "shell.execute_reply": "2021-07-27T16:31:17.730514Z",
     "shell.execute_reply.started": "2021-07-27T16:30:10.054648Z"
    },
    "papermill": {
     "duration": 0.078292,
     "end_time": "2021-07-27T16:31:17.731304",
     "exception": false,
     "start_time": "2021-07-27T16:31:17.653012",
     "status": "completed"
    },
    "tags": []
   },
   "outputs": [],
   "source": [
    "test1 = pd.merge(test,weather_ts,on=['date','Hour'],how = \"left\")\n",
    "test2 = pd.merge(test1,holidays_ts,on=['date'],how = \"left\")"
   ]
  },
  {
   "cell_type": "markdown",
   "id": "70f9f7c6",
   "metadata": {
    "papermill": {
     "duration": 0.058052,
     "end_time": "2021-07-27T16:31:17.848081",
     "exception": false,
     "start_time": "2021-07-27T16:31:17.790029",
     "status": "completed"
    },
    "tags": []
   },
   "source": [
    "# Drop dummy column"
   ]
  },
  {
   "cell_type": "code",
   "execution_count": 24,
   "id": "9d28d0d1",
   "metadata": {
    "execution": {
     "iopub.execute_input": "2021-07-27T16:31:17.970564Z",
     "iopub.status.busy": "2021-07-27T16:31:17.969831Z",
     "iopub.status.idle": "2021-07-27T16:31:17.975953Z",
     "shell.execute_reply": "2021-07-27T16:31:17.975399Z",
     "shell.execute_reply.started": "2021-07-27T16:30:10.076796Z"
    },
    "papermill": {
     "duration": 0.069808,
     "end_time": "2021-07-27T16:31:17.976097",
     "exception": false,
     "start_time": "2021-07-27T16:31:17.906289",
     "status": "completed"
    },
    "tags": []
   },
   "outputs": [],
   "source": [
    "test2_cp = test2.drop([\"Junction\",\"Year\",\"Month\",\"Day_y\",\"date\",\"ID\",\"Wind_Chill(F)\",\"Bump\",\"Give_Way\",\"No_Exit\",\"Roundabout\",\"timestamp\"],axis=1)\n"
   ]
  },
  {
   "cell_type": "markdown",
   "id": "b4bd9db4",
   "metadata": {
    "papermill": {
     "duration": 0.058495,
     "end_time": "2021-07-27T16:31:18.091931",
     "exception": false,
     "start_time": "2021-07-27T16:31:18.033436",
     "status": "completed"
    },
    "tags": []
   },
   "source": [
    "# Take a look on null data"
   ]
  },
  {
   "cell_type": "code",
   "execution_count": 25,
   "id": "bab3c781",
   "metadata": {
    "execution": {
     "iopub.execute_input": "2021-07-27T16:31:18.219311Z",
     "iopub.status.busy": "2021-07-27T16:31:18.218537Z",
     "iopub.status.idle": "2021-07-27T16:31:18.224074Z",
     "shell.execute_reply": "2021-07-27T16:31:18.223405Z",
     "shell.execute_reply.started": "2021-07-27T16:30:10.086939Z"
    },
    "papermill": {
     "duration": 0.073356,
     "end_time": "2021-07-27T16:31:18.224236",
     "exception": false,
     "start_time": "2021-07-27T16:31:18.150880",
     "status": "completed"
    },
    "tags": []
   },
   "outputs": [
    {
     "data": {
      "text/plain": [
       "description          1564\n",
       "Precipitation(in)     720\n",
       "Wind_Speed(mph)        73\n",
       "weekday                 0\n",
       "Selected                0\n",
       "Visibility(mi)          0\n",
       "Humidity(%)             0\n",
       "Temperature(F)          0\n",
       "Weather_Condition       0\n",
       "Hour                    0\n",
       "dtype: int64"
      ]
     },
     "execution_count": 25,
     "metadata": {},
     "output_type": "execute_result"
    }
   ],
   "source": [
    "test2_cp.isnull().sum().sort_values(ascending = False).head(10)"
   ]
  },
  {
   "cell_type": "markdown",
   "id": "e177b0a3",
   "metadata": {
    "papermill": {
     "duration": 0.057581,
     "end_time": "2021-07-27T16:31:18.340137",
     "exception": false,
     "start_time": "2021-07-27T16:31:18.282556",
     "status": "completed"
    },
    "tags": []
   },
   "source": [
    "# Replace null with suitable values"
   ]
  },
  {
   "cell_type": "code",
   "execution_count": 26,
   "id": "0f52cf74",
   "metadata": {
    "execution": {
     "iopub.execute_input": "2021-07-27T16:31:18.469461Z",
     "iopub.status.busy": "2021-07-27T16:31:18.465246Z",
     "iopub.status.idle": "2021-07-27T16:31:18.473344Z",
     "shell.execute_reply": "2021-07-27T16:31:18.472795Z",
     "shell.execute_reply.started": "2021-07-27T16:30:10.108812Z"
    },
    "papermill": {
     "duration": 0.075235,
     "end_time": "2021-07-27T16:31:18.473484",
     "exception": false,
     "start_time": "2021-07-27T16:31:18.398249",
     "status": "completed"
    },
    "tags": []
   },
   "outputs": [],
   "source": [
    "test2_cp['Temperature(F)']= test2_cp['Temperature(F)'].fillna(test2_cp['Temperature(F)'].mean())\n",
    "test2_cp['Visibility(mi)']= test2_cp['Visibility(mi)'].fillna(test2_cp['Visibility(mi)'].mean())\n",
    "test2_cp['Humidity(%)']= test2_cp['Humidity(%)'].fillna(test2_cp['Humidity(%)'].mean())\n",
    "test2_cp['Weather_Condition']= test2_cp['Weather_Condition'].fillna(\"Plarty Cloudy\")\n",
    "test2_cp['Wind_Speed(mph)']= test2_cp['Wind_Speed(mph)'].fillna(test2_cp['Wind_Speed(mph)'].mean())\n",
    "test2_cp['Precipitation(in)']= test2_cp['Precipitation(in)'].fillna(test2_cp['Precipitation(in)'].mean())\n",
    "test2_cp['description']= test2_cp['description'].fillna(0)\n",
    "test2_cp.isnull().sum().sort_values(ascending = False).head(5)\n",
    "test2_cp[\"H_day\"] = test2_cp[\"description\"].copy()"
   ]
  },
  {
   "cell_type": "markdown",
   "id": "103d7b03",
   "metadata": {
    "papermill": {
     "duration": 0.057862,
     "end_time": "2021-07-27T16:31:18.589029",
     "exception": false,
     "start_time": "2021-07-27T16:31:18.531167",
     "status": "completed"
    },
    "tags": []
   },
   "source": [
    "# Convert boolen datatype to 1 and 0"
   ]
  },
  {
   "cell_type": "code",
   "execution_count": 27,
   "id": "e8d542dd",
   "metadata": {
    "execution": {
     "iopub.execute_input": "2021-07-27T16:31:18.712920Z",
     "iopub.status.busy": "2021-07-27T16:31:18.712333Z",
     "iopub.status.idle": "2021-07-27T16:31:19.910501Z",
     "shell.execute_reply": "2021-07-27T16:31:19.909899Z",
     "shell.execute_reply.started": "2021-07-27T16:30:10.130709Z"
    },
    "papermill": {
     "duration": 1.263494,
     "end_time": "2021-07-27T16:31:19.910640",
     "exception": false,
     "start_time": "2021-07-27T16:31:18.647146",
     "status": "completed"
    },
    "tags": []
   },
   "outputs": [
    {
     "name": "stderr",
     "output_type": "stream",
     "text": [
      "/opt/conda/lib/python3.7/site-packages/ipykernel_launcher.py:6: SettingWithCopyWarning: \n",
      "A value is trying to be set on a copy of a slice from a DataFrame\n",
      "\n",
      "See the caveats in the documentation: https://pandas.pydata.org/pandas-docs/stable/user_guide/indexing.html#returning-a-view-versus-a-copy\n",
      "  \n",
      "/opt/conda/lib/python3.7/site-packages/ipykernel_launcher.py:15: SettingWithCopyWarning: \n",
      "A value is trying to be set on a copy of a slice from a DataFrame\n",
      "\n",
      "See the caveats in the documentation: https://pandas.pydata.org/pandas-docs/stable/user_guide/indexing.html#returning-a-view-versus-a-copy\n",
      "  from ipykernel import kernelapp as app\n",
      "/opt/conda/lib/python3.7/site-packages/ipykernel_launcher.py:13: SettingWithCopyWarning: \n",
      "A value is trying to be set on a copy of a slice from a DataFrame\n",
      "\n",
      "See the caveats in the documentation: https://pandas.pydata.org/pandas-docs/stable/user_guide/indexing.html#returning-a-view-versus-a-copy\n",
      "  del sys.path[0]\n",
      "/opt/conda/lib/python3.7/site-packages/ipykernel_launcher.py:11: SettingWithCopyWarning: \n",
      "A value is trying to be set on a copy of a slice from a DataFrame\n",
      "\n",
      "See the caveats in the documentation: https://pandas.pydata.org/pandas-docs/stable/user_guide/indexing.html#returning-a-view-versus-a-copy\n",
      "  # This is added back by InteractiveShellApp.init_path()\n",
      "/opt/conda/lib/python3.7/site-packages/ipykernel_launcher.py:19: SettingWithCopyWarning: \n",
      "A value is trying to be set on a copy of a slice from a DataFrame\n",
      "\n",
      "See the caveats in the documentation: https://pandas.pydata.org/pandas-docs/stable/user_guide/indexing.html#returning-a-view-versus-a-copy\n",
      "/opt/conda/lib/python3.7/site-packages/ipykernel_launcher.py:21: SettingWithCopyWarning: \n",
      "A value is trying to be set on a copy of a slice from a DataFrame\n",
      "\n",
      "See the caveats in the documentation: https://pandas.pydata.org/pandas-docs/stable/user_guide/indexing.html#returning-a-view-versus-a-copy\n"
     ]
    }
   ],
   "source": [
    "bool_d = test2_cp.select_dtypes(include = \"bool\")\n",
    "\n",
    "\n",
    "for i in range(len(test2_cp[\"description\"])):\n",
    "    if test2_cp[\"description\"][i] != 0:\n",
    "        test2_cp[\"H_day\"][i]= 1\n",
    "        \n",
    "\n",
    "for i in range(len(test2_cp['weekday'])):\n",
    "    if test2_cp['weekday'][i] == 'Sunday':\n",
    "        test2_cp['H_day'][i] = 1\n",
    "    elif test2_cp['weekday'][i] == 'Saturday':\n",
    "        test2_cp['H_day'][i] = 1\n",
    "    else:\n",
    "        test2_cp['H_day'][i] = 0\n",
    "\n",
    "for i in range(len(test2_cp[\"Hour\"])):\n",
    "    if (test2_cp[\"Hour\"][i] > 18) or (test2_cp[\"Hour\"][i] <= 6):\n",
    "        test2_cp[\"Hour\"][i]= 1\n",
    "    else :\n",
    "        test2_cp[\"Hour\"][i]= 0"
   ]
  },
  {
   "cell_type": "markdown",
   "id": "22d009ab",
   "metadata": {
    "papermill": {
     "duration": 0.05946,
     "end_time": "2021-07-27T16:31:20.030170",
     "exception": false,
     "start_time": "2021-07-27T16:31:19.970710",
     "status": "completed"
    },
    "tags": []
   },
   "source": [
    "# Encoding categorical datatype to numerical datatype"
   ]
  },
  {
   "cell_type": "code",
   "execution_count": 28,
   "id": "61a0bd66",
   "metadata": {
    "execution": {
     "iopub.execute_input": "2021-07-27T16:31:20.160005Z",
     "iopub.status.busy": "2021-07-27T16:31:20.159323Z",
     "iopub.status.idle": "2021-07-27T16:31:20.168010Z",
     "shell.execute_reply": "2021-07-27T16:31:20.167368Z",
     "shell.execute_reply.started": "2021-07-27T16:30:11.682945Z"
    },
    "papermill": {
     "duration": 0.077142,
     "end_time": "2021-07-27T16:31:20.168170",
     "exception": false,
     "start_time": "2021-07-27T16:31:20.091028",
     "status": "completed"
    },
    "tags": []
   },
   "outputs": [],
   "source": [
    "        \n",
    "from sklearn.preprocessing import LabelEncoder\n",
    "le = LabelEncoder()\n",
    "\n",
    "for i in bool_d.columns :\n",
    "    test2_cp[i]=le.fit_transform(test2_cp[i])\n",
    "    \n",
    "test2_cp[\"Selected\"]=le.fit_transform(test2_cp[\"Selected\"])\n",
    "test2_cp[\"Weather_Condition\"]=le.fit_transform(test2_cp[\"Weather_Condition\"])\n",
    "test2_cp[\"Side\"]=le.fit_transform(test2_cp[\"Side\"])\n",
    "\n",
    "test2_cp = test2_cp.drop([\"description\",\"weekday\",\"Day_x\",\"year\",\"Precipitation(in)\",\"Humidity(%)\"],axis=1)"
   ]
  },
  {
   "cell_type": "markdown",
   "id": "460c7ff3",
   "metadata": {
    "papermill": {
     "duration": 0.057913,
     "end_time": "2021-07-27T16:31:20.285175",
     "exception": false,
     "start_time": "2021-07-27T16:31:20.227262",
     "status": "completed"
    },
    "tags": []
   },
   "source": [
    "Note that the test set has the same features and doesn't have the `Severity` column.\n",
    "At this stage one must **NOT** forget to apply the same processing done on the training set on the features of the test set.\n",
    "\n",
    "Now we'll add `Severity` column to the test `DataFrame` and add the values of the predicted class to it.\n",
    "\n",
    "**I'll select the numerical features here as I did in the training set. DO NOT forget to change this step as you change the preprocessing of the training data.**"
   ]
  },
  {
   "cell_type": "code",
   "execution_count": 29,
   "id": "74fdf695",
   "metadata": {
    "execution": {
     "iopub.execute_input": "2021-07-27T16:31:20.408939Z",
     "iopub.status.busy": "2021-07-27T16:31:20.408000Z",
     "iopub.status.idle": "2021-07-27T16:31:20.444428Z",
     "shell.execute_reply": "2021-07-27T16:31:20.443875Z",
     "shell.execute_reply.started": "2021-07-27T16:30:11.697465Z"
    },
    "papermill": {
     "duration": 0.1012,
     "end_time": "2021-07-27T16:31:20.444555",
     "exception": false,
     "start_time": "2021-07-27T16:31:20.343355",
     "status": "completed"
    },
    "tags": []
   },
   "outputs": [
    {
     "data": {
      "text/html": [
       "<div>\n",
       "<style scoped>\n",
       "    .dataframe tbody tr th:only-of-type {\n",
       "        vertical-align: middle;\n",
       "    }\n",
       "\n",
       "    .dataframe tbody tr th {\n",
       "        vertical-align: top;\n",
       "    }\n",
       "\n",
       "    .dataframe thead th {\n",
       "        text-align: right;\n",
       "    }\n",
       "</style>\n",
       "<table border=\"1\" class=\"dataframe\">\n",
       "  <thead>\n",
       "    <tr style=\"text-align: right;\">\n",
       "      <th></th>\n",
       "      <th>Lat</th>\n",
       "      <th>Lng</th>\n",
       "      <th>Distance(mi)</th>\n",
       "      <th>Crossing</th>\n",
       "      <th>Railway</th>\n",
       "      <th>Stop</th>\n",
       "      <th>Amenity</th>\n",
       "      <th>Side</th>\n",
       "      <th>month</th>\n",
       "      <th>Hour</th>\n",
       "      <th>Weather_Condition</th>\n",
       "      <th>Temperature(F)</th>\n",
       "      <th>Wind_Speed(mph)</th>\n",
       "      <th>Visibility(mi)</th>\n",
       "      <th>Selected</th>\n",
       "      <th>H_day</th>\n",
       "      <th>Severity</th>\n",
       "    </tr>\n",
       "  </thead>\n",
       "  <tbody>\n",
       "    <tr>\n",
       "      <th>0</th>\n",
       "      <td>37.786060</td>\n",
       "      <td>-122.390900</td>\n",
       "      <td>0.039</td>\n",
       "      <td>0</td>\n",
       "      <td>0</td>\n",
       "      <td>0</td>\n",
       "      <td>0</td>\n",
       "      <td>1</td>\n",
       "      <td>4</td>\n",
       "      <td>1</td>\n",
       "      <td>14</td>\n",
       "      <td>63.0</td>\n",
       "      <td>10.4</td>\n",
       "      <td>10.0</td>\n",
       "      <td>0</td>\n",
       "      <td>0</td>\n",
       "      <td>2</td>\n",
       "    </tr>\n",
       "    <tr>\n",
       "      <th>1</th>\n",
       "      <td>37.769609</td>\n",
       "      <td>-122.415057</td>\n",
       "      <td>0.202</td>\n",
       "      <td>0</td>\n",
       "      <td>0</td>\n",
       "      <td>0</td>\n",
       "      <td>0</td>\n",
       "      <td>1</td>\n",
       "      <td>10</td>\n",
       "      <td>0</td>\n",
       "      <td>3</td>\n",
       "      <td>65.0</td>\n",
       "      <td>5.0</td>\n",
       "      <td>9.0</td>\n",
       "      <td>0</td>\n",
       "      <td>0</td>\n",
       "      <td>2</td>\n",
       "    </tr>\n",
       "    <tr>\n",
       "      <th>2</th>\n",
       "      <td>37.807495</td>\n",
       "      <td>-122.476021</td>\n",
       "      <td>0.000</td>\n",
       "      <td>0</td>\n",
       "      <td>0</td>\n",
       "      <td>0</td>\n",
       "      <td>0</td>\n",
       "      <td>1</td>\n",
       "      <td>9</td>\n",
       "      <td>0</td>\n",
       "      <td>11</td>\n",
       "      <td>58.0</td>\n",
       "      <td>18.0</td>\n",
       "      <td>10.0</td>\n",
       "      <td>0</td>\n",
       "      <td>0</td>\n",
       "      <td>2</td>\n",
       "    </tr>\n",
       "    <tr>\n",
       "      <th>3</th>\n",
       "      <td>37.761818</td>\n",
       "      <td>-122.405869</td>\n",
       "      <td>0.000</td>\n",
       "      <td>0</td>\n",
       "      <td>0</td>\n",
       "      <td>0</td>\n",
       "      <td>0</td>\n",
       "      <td>1</td>\n",
       "      <td>8</td>\n",
       "      <td>0</td>\n",
       "      <td>3</td>\n",
       "      <td>72.0</td>\n",
       "      <td>17.0</td>\n",
       "      <td>10.0</td>\n",
       "      <td>0</td>\n",
       "      <td>0</td>\n",
       "      <td>2</td>\n",
       "    </tr>\n",
       "    <tr>\n",
       "      <th>4</th>\n",
       "      <td>37.732350</td>\n",
       "      <td>-122.414100</td>\n",
       "      <td>0.670</td>\n",
       "      <td>0</td>\n",
       "      <td>0</td>\n",
       "      <td>0</td>\n",
       "      <td>0</td>\n",
       "      <td>1</td>\n",
       "      <td>10</td>\n",
       "      <td>0</td>\n",
       "      <td>18</td>\n",
       "      <td>57.0</td>\n",
       "      <td>5.8</td>\n",
       "      <td>10.0</td>\n",
       "      <td>0</td>\n",
       "      <td>0</td>\n",
       "      <td>2</td>\n",
       "    </tr>\n",
       "  </tbody>\n",
       "</table>\n",
       "</div>"
      ],
      "text/plain": [
       "         Lat         Lng  Distance(mi)  Crossing  Railway  Stop  Amenity  \\\n",
       "0  37.786060 -122.390900         0.039         0        0     0        0   \n",
       "1  37.769609 -122.415057         0.202         0        0     0        0   \n",
       "2  37.807495 -122.476021         0.000         0        0     0        0   \n",
       "3  37.761818 -122.405869         0.000         0        0     0        0   \n",
       "4  37.732350 -122.414100         0.670         0        0     0        0   \n",
       "\n",
       "   Side  month  Hour  Weather_Condition  Temperature(F)  Wind_Speed(mph)  \\\n",
       "0     1      4     1                 14            63.0             10.4   \n",
       "1     1     10     0                  3            65.0              5.0   \n",
       "2     1      9     0                 11            58.0             18.0   \n",
       "3     1      8     0                  3            72.0             17.0   \n",
       "4     1     10     0                 18            57.0              5.8   \n",
       "\n",
       "   Visibility(mi)  Selected H_day  Severity  \n",
       "0            10.0         0     0         2  \n",
       "1             9.0         0     0         2  \n",
       "2            10.0         0     0         2  \n",
       "3            10.0         0     0         2  \n",
       "4            10.0         0     0         2  "
      ]
     },
     "execution_count": 29,
     "metadata": {},
     "output_type": "execute_result"
    }
   ],
   "source": [
    "X_test = test2_cp\n",
    "\n",
    "y_test_predicted = classifier.predict(X_test)\n",
    "\n",
    "test2_cp['Severity'] = y_test_predicted\n",
    "\n",
    "test2_cp.head()"
   ]
  },
  {
   "cell_type": "markdown",
   "id": "47e6da7d",
   "metadata": {
    "papermill": {
     "duration": 0.058107,
     "end_time": "2021-07-27T16:31:20.561607",
     "exception": false,
     "start_time": "2021-07-27T16:31:20.503500",
     "status": "completed"
    },
    "tags": []
   },
   "source": [
    "Now we're ready to generate the submission file. The submission file needs the columns `ID` and `Severity` only."
   ]
  },
  {
   "cell_type": "code",
   "execution_count": 30,
   "id": "eb1c419a",
   "metadata": {
    "execution": {
     "iopub.execute_input": "2021-07-27T16:31:20.686596Z",
     "iopub.status.busy": "2021-07-27T16:31:20.685269Z",
     "iopub.status.idle": "2021-07-27T16:31:20.729861Z",
     "shell.execute_reply": "2021-07-27T16:31:20.730494Z",
     "shell.execute_reply.started": "2021-07-27T16:30:11.748553Z"
    },
    "papermill": {
     "duration": 0.109955,
     "end_time": "2021-07-27T16:31:20.730709",
     "exception": false,
     "start_time": "2021-07-27T16:31:20.620754",
     "status": "completed"
    },
    "tags": []
   },
   "outputs": [
    {
     "data": {
      "text/html": [
       "<div>\n",
       "<style scoped>\n",
       "    .dataframe tbody tr th:only-of-type {\n",
       "        vertical-align: middle;\n",
       "    }\n",
       "\n",
       "    .dataframe tbody tr th {\n",
       "        vertical-align: top;\n",
       "    }\n",
       "\n",
       "    .dataframe thead th {\n",
       "        text-align: right;\n",
       "    }\n",
       "</style>\n",
       "<table border=\"1\" class=\"dataframe\">\n",
       "  <thead>\n",
       "    <tr style=\"text-align: right;\">\n",
       "      <th></th>\n",
       "      <th>Lat</th>\n",
       "      <th>Lng</th>\n",
       "      <th>Distance(mi)</th>\n",
       "      <th>Crossing</th>\n",
       "      <th>Railway</th>\n",
       "      <th>Stop</th>\n",
       "      <th>Amenity</th>\n",
       "      <th>Side</th>\n",
       "      <th>month</th>\n",
       "      <th>Hour</th>\n",
       "      <th>Weather_Condition</th>\n",
       "      <th>Temperature(F)</th>\n",
       "      <th>Wind_Speed(mph)</th>\n",
       "      <th>Visibility(mi)</th>\n",
       "      <th>Selected</th>\n",
       "      <th>H_day</th>\n",
       "      <th>Severity</th>\n",
       "      <th>ID</th>\n",
       "    </tr>\n",
       "  </thead>\n",
       "  <tbody>\n",
       "    <tr>\n",
       "      <th>0</th>\n",
       "      <td>37.786060</td>\n",
       "      <td>-122.390900</td>\n",
       "      <td>0.039</td>\n",
       "      <td>0</td>\n",
       "      <td>0</td>\n",
       "      <td>0</td>\n",
       "      <td>0</td>\n",
       "      <td>1</td>\n",
       "      <td>4</td>\n",
       "      <td>1</td>\n",
       "      <td>14</td>\n",
       "      <td>63.0</td>\n",
       "      <td>10.400000</td>\n",
       "      <td>10.0</td>\n",
       "      <td>0</td>\n",
       "      <td>0</td>\n",
       "      <td>2</td>\n",
       "      <td>6407</td>\n",
       "    </tr>\n",
       "    <tr>\n",
       "      <th>1</th>\n",
       "      <td>37.769609</td>\n",
       "      <td>-122.415057</td>\n",
       "      <td>0.202</td>\n",
       "      <td>0</td>\n",
       "      <td>0</td>\n",
       "      <td>0</td>\n",
       "      <td>0</td>\n",
       "      <td>1</td>\n",
       "      <td>10</td>\n",
       "      <td>0</td>\n",
       "      <td>3</td>\n",
       "      <td>65.0</td>\n",
       "      <td>5.000000</td>\n",
       "      <td>9.0</td>\n",
       "      <td>0</td>\n",
       "      <td>0</td>\n",
       "      <td>2</td>\n",
       "      <td>6408</td>\n",
       "    </tr>\n",
       "    <tr>\n",
       "      <th>2</th>\n",
       "      <td>37.807495</td>\n",
       "      <td>-122.476021</td>\n",
       "      <td>0.000</td>\n",
       "      <td>0</td>\n",
       "      <td>0</td>\n",
       "      <td>0</td>\n",
       "      <td>0</td>\n",
       "      <td>1</td>\n",
       "      <td>9</td>\n",
       "      <td>0</td>\n",
       "      <td>11</td>\n",
       "      <td>58.0</td>\n",
       "      <td>18.000000</td>\n",
       "      <td>10.0</td>\n",
       "      <td>0</td>\n",
       "      <td>0</td>\n",
       "      <td>2</td>\n",
       "      <td>6409</td>\n",
       "    </tr>\n",
       "    <tr>\n",
       "      <th>3</th>\n",
       "      <td>37.761818</td>\n",
       "      <td>-122.405869</td>\n",
       "      <td>0.000</td>\n",
       "      <td>0</td>\n",
       "      <td>0</td>\n",
       "      <td>0</td>\n",
       "      <td>0</td>\n",
       "      <td>1</td>\n",
       "      <td>8</td>\n",
       "      <td>0</td>\n",
       "      <td>3</td>\n",
       "      <td>72.0</td>\n",
       "      <td>17.000000</td>\n",
       "      <td>10.0</td>\n",
       "      <td>0</td>\n",
       "      <td>0</td>\n",
       "      <td>2</td>\n",
       "      <td>6410</td>\n",
       "    </tr>\n",
       "    <tr>\n",
       "      <th>4</th>\n",
       "      <td>37.732350</td>\n",
       "      <td>-122.414100</td>\n",
       "      <td>0.670</td>\n",
       "      <td>0</td>\n",
       "      <td>0</td>\n",
       "      <td>0</td>\n",
       "      <td>0</td>\n",
       "      <td>1</td>\n",
       "      <td>10</td>\n",
       "      <td>0</td>\n",
       "      <td>18</td>\n",
       "      <td>57.0</td>\n",
       "      <td>5.800000</td>\n",
       "      <td>10.0</td>\n",
       "      <td>0</td>\n",
       "      <td>0</td>\n",
       "      <td>2</td>\n",
       "      <td>6411</td>\n",
       "    </tr>\n",
       "    <tr>\n",
       "      <th>...</th>\n",
       "      <td>...</td>\n",
       "      <td>...</td>\n",
       "      <td>...</td>\n",
       "      <td>...</td>\n",
       "      <td>...</td>\n",
       "      <td>...</td>\n",
       "      <td>...</td>\n",
       "      <td>...</td>\n",
       "      <td>...</td>\n",
       "      <td>...</td>\n",
       "      <td>...</td>\n",
       "      <td>...</td>\n",
       "      <td>...</td>\n",
       "      <td>...</td>\n",
       "      <td>...</td>\n",
       "      <td>...</td>\n",
       "      <td>...</td>\n",
       "      <td>...</td>\n",
       "    </tr>\n",
       "    <tr>\n",
       "      <th>1596</th>\n",
       "      <td>37.812973</td>\n",
       "      <td>-122.362335</td>\n",
       "      <td>4.460</td>\n",
       "      <td>0</td>\n",
       "      <td>0</td>\n",
       "      <td>0</td>\n",
       "      <td>0</td>\n",
       "      <td>1</td>\n",
       "      <td>6</td>\n",
       "      <td>1</td>\n",
       "      <td>1</td>\n",
       "      <td>60.0</td>\n",
       "      <td>13.000000</td>\n",
       "      <td>10.0</td>\n",
       "      <td>0</td>\n",
       "      <td>0</td>\n",
       "      <td>2</td>\n",
       "      <td>8003</td>\n",
       "    </tr>\n",
       "    <tr>\n",
       "      <th>1597</th>\n",
       "      <td>37.761818</td>\n",
       "      <td>-122.405861</td>\n",
       "      <td>0.010</td>\n",
       "      <td>0</td>\n",
       "      <td>0</td>\n",
       "      <td>0</td>\n",
       "      <td>0</td>\n",
       "      <td>1</td>\n",
       "      <td>12</td>\n",
       "      <td>0</td>\n",
       "      <td>14</td>\n",
       "      <td>46.0</td>\n",
       "      <td>10.888351</td>\n",
       "      <td>10.0</td>\n",
       "      <td>0</td>\n",
       "      <td>1</td>\n",
       "      <td>2</td>\n",
       "      <td>8004</td>\n",
       "    </tr>\n",
       "    <tr>\n",
       "      <th>1598</th>\n",
       "      <td>37.732260</td>\n",
       "      <td>-122.431970</td>\n",
       "      <td>0.431</td>\n",
       "      <td>0</td>\n",
       "      <td>0</td>\n",
       "      <td>0</td>\n",
       "      <td>0</td>\n",
       "      <td>1</td>\n",
       "      <td>2</td>\n",
       "      <td>1</td>\n",
       "      <td>13</td>\n",
       "      <td>57.9</td>\n",
       "      <td>9.200000</td>\n",
       "      <td>10.0</td>\n",
       "      <td>0</td>\n",
       "      <td>0</td>\n",
       "      <td>2</td>\n",
       "      <td>8005</td>\n",
       "    </tr>\n",
       "    <tr>\n",
       "      <th>1599</th>\n",
       "      <td>37.786782</td>\n",
       "      <td>-122.390126</td>\n",
       "      <td>0.000</td>\n",
       "      <td>1</td>\n",
       "      <td>0</td>\n",
       "      <td>0</td>\n",
       "      <td>0</td>\n",
       "      <td>1</td>\n",
       "      <td>10</td>\n",
       "      <td>1</td>\n",
       "      <td>3</td>\n",
       "      <td>55.0</td>\n",
       "      <td>0.000000</td>\n",
       "      <td>10.0</td>\n",
       "      <td>0</td>\n",
       "      <td>0</td>\n",
       "      <td>2</td>\n",
       "      <td>8006</td>\n",
       "    </tr>\n",
       "    <tr>\n",
       "      <th>1600</th>\n",
       "      <td>37.773040</td>\n",
       "      <td>-122.406570</td>\n",
       "      <td>0.087</td>\n",
       "      <td>0</td>\n",
       "      <td>0</td>\n",
       "      <td>0</td>\n",
       "      <td>0</td>\n",
       "      <td>1</td>\n",
       "      <td>5</td>\n",
       "      <td>1</td>\n",
       "      <td>1</td>\n",
       "      <td>56.0</td>\n",
       "      <td>10.000000</td>\n",
       "      <td>10.0</td>\n",
       "      <td>0</td>\n",
       "      <td>0</td>\n",
       "      <td>2</td>\n",
       "      <td>8007</td>\n",
       "    </tr>\n",
       "  </tbody>\n",
       "</table>\n",
       "<p>1601 rows × 18 columns</p>\n",
       "</div>"
      ],
      "text/plain": [
       "            Lat         Lng  Distance(mi)  Crossing  Railway  Stop  Amenity  \\\n",
       "0     37.786060 -122.390900         0.039         0        0     0        0   \n",
       "1     37.769609 -122.415057         0.202         0        0     0        0   \n",
       "2     37.807495 -122.476021         0.000         0        0     0        0   \n",
       "3     37.761818 -122.405869         0.000         0        0     0        0   \n",
       "4     37.732350 -122.414100         0.670         0        0     0        0   \n",
       "...         ...         ...           ...       ...      ...   ...      ...   \n",
       "1596  37.812973 -122.362335         4.460         0        0     0        0   \n",
       "1597  37.761818 -122.405861         0.010         0        0     0        0   \n",
       "1598  37.732260 -122.431970         0.431         0        0     0        0   \n",
       "1599  37.786782 -122.390126         0.000         1        0     0        0   \n",
       "1600  37.773040 -122.406570         0.087         0        0     0        0   \n",
       "\n",
       "      Side  month  Hour  Weather_Condition  Temperature(F)  Wind_Speed(mph)  \\\n",
       "0        1      4     1                 14            63.0        10.400000   \n",
       "1        1     10     0                  3            65.0         5.000000   \n",
       "2        1      9     0                 11            58.0        18.000000   \n",
       "3        1      8     0                  3            72.0        17.000000   \n",
       "4        1     10     0                 18            57.0         5.800000   \n",
       "...    ...    ...   ...                ...             ...              ...   \n",
       "1596     1      6     1                  1            60.0        13.000000   \n",
       "1597     1     12     0                 14            46.0        10.888351   \n",
       "1598     1      2     1                 13            57.9         9.200000   \n",
       "1599     1     10     1                  3            55.0         0.000000   \n",
       "1600     1      5     1                  1            56.0        10.000000   \n",
       "\n",
       "      Visibility(mi)  Selected H_day  Severity    ID  \n",
       "0               10.0         0     0         2  6407  \n",
       "1                9.0         0     0         2  6408  \n",
       "2               10.0         0     0         2  6409  \n",
       "3               10.0         0     0         2  6410  \n",
       "4               10.0         0     0         2  6411  \n",
       "...              ...       ...   ...       ...   ...  \n",
       "1596            10.0         0     0         2  8003  \n",
       "1597            10.0         0     1         2  8004  \n",
       "1598            10.0         0     0         2  8005  \n",
       "1599            10.0         0     0         2  8006  \n",
       "1600            10.0         0     0         2  8007  \n",
       "\n",
       "[1601 rows x 18 columns]"
      ]
     },
     "execution_count": 30,
     "metadata": {},
     "output_type": "execute_result"
    }
   ],
   "source": [
    "test2_cp[\"ID\"] = test.ID\n",
    "\n",
    "test2_cp[['ID', 'Severity']].to_csv('/kaggle/working/submission.csv', index=False)\n",
    "test2_cp\n"
   ]
  },
  {
   "cell_type": "markdown",
   "id": "ee71f44e",
   "metadata": {
    "papermill": {
     "duration": 0.062635,
     "end_time": "2021-07-27T16:31:20.866308",
     "exception": false,
     "start_time": "2021-07-27T16:31:20.803673",
     "status": "completed"
    },
    "tags": []
   },
   "source": []
  },
  {
   "cell_type": "markdown",
   "id": "0e39d4a1",
   "metadata": {
    "papermill": {
     "duration": 0.059929,
     "end_time": "2021-07-27T16:31:20.987176",
     "exception": false,
     "start_time": "2021-07-27T16:31:20.927247",
     "status": "completed"
    },
    "tags": []
   },
   "source": [
    "The remaining steps is to submit the generated file and are as follows. \n",
    "\n",
    "1. Press `Save Version` on the upper right corner of this notebook.\n",
    "2. Write a `Version Name` of your choice and choose `Save & Run All (Commit)` then click `Save`.\n",
    "3. Wait for the saved notebook to finish running the go to the saved notebook.\n",
    "4. Scroll down until you see the output files then select the `submission.csv` file and click `Submit`.\n",
    "\n",
    "Now your submission will be evaluated and your score will be updated on the leaderboard! CONGRATULATIONS!!"
   ]
  },
  {
   "cell_type": "markdown",
   "id": "d040cfde",
   "metadata": {
    "papermill": {
     "duration": 0.061634,
     "end_time": "2021-07-27T16:31:21.110183",
     "exception": false,
     "start_time": "2021-07-27T16:31:21.048549",
     "status": "completed"
    },
    "tags": []
   },
   "source": [
    "## Conclusion\n",
    "\n",
    "In this notebook, we have demonstrated the essential steps that one should do in order to get \"slightly\" familiar with the data and the submission process. We chose not to go into details in each step to keep the welcoming notebook simple and make a room for improvement.\n",
    "\n",
    "You're encourged to `Fork` the notebook, edit it, add your insights and use it to create your submission."
   ]
  }
 ],
 "metadata": {
  "kernelspec": {
   "display_name": "Python 3",
   "language": "python",
   "name": "python3"
  },
  "language_info": {
   "codemirror_mode": {
    "name": "ipython",
    "version": 3
   },
   "file_extension": ".py",
   "mimetype": "text/x-python",
   "name": "python",
   "nbconvert_exporter": "python",
   "pygments_lexer": "ipython3",
   "version": "3.7.10"
  },
  "papermill": {
   "default_parameters": {},
   "duration": 33.13718,
   "end_time": "2021-07-27T16:31:23.095113",
   "environment_variables": {},
   "exception": null,
   "input_path": "__notebook__.ipynb",
   "output_path": "__notebook__.ipynb",
   "parameters": {},
   "start_time": "2021-07-27T16:30:49.957933",
   "version": "2.3.3"
  }
 },
 "nbformat": 4,
 "nbformat_minor": 5
}
